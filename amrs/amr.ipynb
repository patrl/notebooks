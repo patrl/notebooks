{
 "cells": [
  {
   "cell_type": "code",
   "execution_count": 14,
   "id": "0a52a0da-2f56-4e4e-8e48-0c0485fd5250",
   "metadata": {},
   "outputs": [],
   "source": [
    "newtype Variable = V String\n",
    "newtype Property = P String\n",
    "newtype Role = R String\n",
    "\n",
    "type Instance = (Variable,Property)"
   ]
  },
  {
   "cell_type": "markdown",
   "id": "7fa3efb0-0396-492a-abf4-6e6d103c7bba",
   "metadata": {},
   "source": [
    "Here we declare a datatype for Basic Abstract Meaning Representations (Basic AMRs, Bos 2016). An AMR is either a constant, or an instance assignment with 0 or more out-going roles. Note that since the list of outgoing roles can be empty, this simplifies the syntax given by Bos."
   ]
  },
  {
   "cell_type": "code",
   "execution_count": 15,
   "id": "a9c379ab-cdc3-4129-b9a3-eb93f807d69f",
   "metadata": {},
   "outputs": [],
   "source": [
    "data AMR = C String | I (Variable,Property) [(Role,AMR)]"
   ]
  },
  {
   "cell_type": "markdown",
   "id": "52a6d495-a48e-40e2-9ca7-f295a50ef404",
   "metadata": {},
   "source": [
    "Some examples of AMRs using the above datatype:"
   ]
  },
  {
   "cell_type": "code",
   "execution_count": 28,
   "id": "f8c3feec-a998-41c1-8e14-b0df763c85d3",
   "metadata": {},
   "outputs": [],
   "source": [
    "-- The children moaned.\n",
    "-- (e / moan-01 :ARG0 (x / child))\n",
    "\n",
    "ex1 = I (V \"e\", P \"moan-01\") [(R \":ARG0\", I (V \"x\", P \"child\") [])]\n",
    "\n",
    "-- Ms Ribble handed out envelopes to the children\n",
    "-- (e / give-01 :ARG0 (x / person :named \"Ms Ribble\") :ARG2 (y / child) :ARG1 (z / envelope))\n",
    "\n",
    "ex2 = I (V \"e\", P \"give-01\") [(R \":ARG0\", I (V \"x\", P \"person\") [(R \":named\", C \"Ms. Ribble\")]),(R \":ARG2\", I (V \"y\", P \"child\") []),(R \":ARG1\", I (V \"z\", P \"envelope\") [])]\n",
    "\n",
    "-- It rains.\n",
    "-- (e / rain-01)\n",
    "\n",
    "ex3 = I (V \"e\", P \"rain-01\") []"
   ]
  },
  {
   "cell_type": "markdown",
   "id": "856f95bf-9005-435e-8fa4-396e6435cb1a",
   "metadata": {},
   "source": [
    "We want to recursively map AMRs to First-Order Logic (FOL). Let's encode FOL in haskell."
   ]
  },
  {
   "cell_type": "code",
   "execution_count": 75,
   "id": "5ab69434-b852-400c-aa71-76ea47bba105",
   "metadata": {},
   "outputs": [],
   "source": [
    "data Term = Constant String | Var String\n",
    "\n",
    "ppTerm :: Term -> String\n",
    "ppTerm (Constant c) = c\n",
    "ppTerm (Var v) = v\n",
    "\n",
    "instance Show Term where\n",
    "    show = ppTerm\n",
    "\n",
    "data FoL = Atom String [Term] | Not FoL | And FoL FoL | Exists String FoL | TT | FF\n",
    "\n",
    "instance Show FoL where\n",
    "    show = ppFoL\n",
    "\n",
    "commas = foldr1 (\\w s -> w ++ ',':s)\n",
    "\n",
    "ppFoL :: FoL -> String\n",
    "ppFoL (Atom pred ts) = pred ++ \"(\" ++ commas (map show ts) ++ \")\"\n",
    "ppFoL (Not f) = \"~(\" ++ ppFoL f ++ \")\"\n",
    "ppFoL (And f g) = ppFoL f ++ \" && \" ++ ppFoL g\n",
    "ppFoL (Exists v f) = \"E\" ++ v ++ \"(\" ++ ppFoL f ++ \")\"\n",
    "ppFoL TT = \"T\"\n",
    "ppFoL FF = \"F\""
   ]
  },
  {
   "cell_type": "markdown",
   "id": "9eec1746-3c98-4202-be1c-12ee9477db4d",
   "metadata": {},
   "source": [
    "We want a function I that maps (i) AMR constants to FoL constants, and (ii) AMR instance assignments to FoL atomic formulas. This implements the semantics of basic AMRs from Lai et al."
   ]
  },
  {
   "cell_type": "code",
   "execution_count": 76,
   "id": "f18b682a-6199-4c3f-9867-695d07e50661",
   "metadata": {},
   "outputs": [],
   "source": [
    "import Control.Monad.Cont\n",
    "\n",
    "conjoin :: [FoL] -> FoL\n",
    "conjoin = foldr And TT\n",
    "\n",
    "amrToFoL :: AMR -> Cont FoL Term\n",
    "amrToFoL (C s) = return $ Constant s \n",
    "\n",
    "amrToFoL (I (V v,P p) rs) = cont (\\k -> Exists v $\n",
    "    Atom p [Var v]\n",
    "    `And` k (Var v)\n",
    "    `And` conjoin (map (\\(R r,a) -> (runCont $ amrToFoL a) (\\y -> Atom r [Var v,y])) rs))"
   ]
  },
  {
   "cell_type": "markdown",
   "id": "9508041a-2f00-4dfe-b6b3-ec4028fb2496",
   "metadata": {},
   "source": [
    "We'll write a quick normalization function to remove redundant conjuncts:"
   ]
  },
  {
   "cell_type": "code",
   "execution_count": 77,
   "id": "be37809f-cf5b-4202-8f89-d65b1a844be4",
   "metadata": {},
   "outputs": [],
   "source": [
    "normalizeFoL :: FoL -> FoL\n",
    "normalizeFoL (Atom s ts) = Atom s ts\n",
    "normalizeFoL (Not f) = Not (normalizeFoL f)\n",
    "normalizeFoL TT = TT\n",
    "normalizeFoL FF = FF\n",
    "normalizeFoL (Exists v f) = Exists v (normalizeFoL f)\n",
    "normalizeFoL (And f TT) = normalizeFoL f\n",
    "normalizeFoL (And TT f) = normalizeFoL f\n",
    "normalizeFoL (And f g) = And (normalizeFoL f) (normalizeFoL g)"
   ]
  },
  {
   "cell_type": "markdown",
   "id": "a9511cbc-bee9-4866-9677-2b342b593f8f",
   "metadata": {},
   "source": [
    "We'll also need a lower function to get rid of the continuation argument. This is implicit in Lai et al's semantics."
   ]
  },
  {
   "cell_type": "code",
   "execution_count": 78,
   "id": "26d335f3-af66-4e7d-bfeb-fab993e62c96",
   "metadata": {},
   "outputs": [],
   "source": [
    "lowerFoL :: Cont FoL Term -> FoL\n",
    "lowerFoL k = runCont k (const TT)"
   ]
  },
  {
   "cell_type": "markdown",
   "id": "de73f022-35de-48a7-abbb-38d2d0dc28b0",
   "metadata": {},
   "source": [
    "Now we can test the resulting mapping function."
   ]
  },
  {
   "cell_type": "code",
   "execution_count": 80,
   "id": "6a65781d-ba19-4e16-ba12-a116f480c692",
   "metadata": {},
   "outputs": [
    {
     "data": {
      "text/plain": [
       "Ee(moan-01(e) && Ex(child(x) && :ARG0(e,x)))"
      ]
     },
     "metadata": {},
     "output_type": "display_data"
    }
   ],
   "source": [
    "(normalizeFoL . lowerFoL . amrToFoL) ex1"
   ]
  },
  {
   "cell_type": "code",
   "execution_count": 81,
   "id": "30b85692-dbab-4119-99a1-8794ad928814",
   "metadata": {},
   "outputs": [
    {
     "data": {
      "text/plain": [
       "Ee(give-01(e) && Ex(person(x) && :ARG0(e,x) && :named(x,Ms. Ribble)) && Ey(child(y) && :ARG2(e,y)) && Ez(envelope(z) && :ARG1(e,z)))"
      ]
     },
     "metadata": {},
     "output_type": "display_data"
    }
   ],
   "source": [
    "(normalizeFoL . lowerFoL . amrToFoL) ex2"
   ]
  },
  {
   "cell_type": "code",
   "execution_count": 82,
   "id": "b24774bb-fd22-4218-bff0-21fa23a910f5",
   "metadata": {},
   "outputs": [
    {
     "data": {
      "text/plain": [
       "Ee(rain-01(e))"
      ]
     },
     "metadata": {},
     "output_type": "display_data"
    }
   ],
   "source": [
    "(normalizeFoL . lowerFoL . amrToFoL) ex3"
   ]
  },
  {
   "cell_type": "code",
   "execution_count": null,
   "id": "16cba6b2-fe58-41d1-ad73-d201736ea28d",
   "metadata": {},
   "outputs": [],
   "source": []
  }
 ],
 "metadata": {
  "kernelspec": {
   "display_name": "Haskell - haskell",
   "language": "haskell",
   "name": "ihaskell_haskell"
  },
  "language_info": {
   "codemirror_mode": "Haskell",
   "file_extension": ".hs",
   "mimetype": "text/x-haskell",
   "name": "haskell",
   "pygments_lexer": "Haskell",
   "version": "8.10.4"
  }
 },
 "nbformat": 4,
 "nbformat_minor": 5
}
