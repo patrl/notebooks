{
 "cells": [
  {
   "cell_type": "markdown",
   "metadata": {},
   "source": [
    "# Bledin's compositional truthmaker semantics\n",
    "\n",
    "## Fineian truthmaker semantics"
   ]
  },
  {
   "cell_type": "code",
   "execution_count": null,
   "metadata": {},
   "outputs": [
    {
     "data": {
      "text/html": [
       "<style>/* Styles used for the Hoogle display in the pager */\n",
       ".hoogle-doc {\n",
       "display: block;\n",
       "padding-bottom: 1.3em;\n",
       "padding-left: 0.4em;\n",
       "}\n",
       ".hoogle-code {\n",
       "display: block;\n",
       "font-family: monospace;\n",
       "white-space: pre;\n",
       "}\n",
       ".hoogle-text {\n",
       "display: block;\n",
       "}\n",
       ".hoogle-name {\n",
       "color: green;\n",
       "font-weight: bold;\n",
       "}\n",
       ".hoogle-head {\n",
       "font-weight: bold;\n",
       "}\n",
       ".hoogle-sub {\n",
       "display: block;\n",
       "margin-left: 0.4em;\n",
       "}\n",
       ".hoogle-package {\n",
       "font-weight: bold;\n",
       "font-style: italic;\n",
       "}\n",
       ".hoogle-module {\n",
       "font-weight: bold;\n",
       "}\n",
       ".hoogle-class {\n",
       "font-weight: bold;\n",
       "}\n",
       ".get-type {\n",
       "color: green;\n",
       "font-weight: bold;\n",
       "font-family: monospace;\n",
       "display: block;\n",
       "white-space: pre-wrap;\n",
       "}\n",
       ".show-type {\n",
       "color: green;\n",
       "font-weight: bold;\n",
       "font-family: monospace;\n",
       "margin-left: 1em;\n",
       "}\n",
       ".mono {\n",
       "font-family: monospace;\n",
       "display: block;\n",
       "}\n",
       ".err-msg {\n",
       "color: red;\n",
       "font-style: italic;\n",
       "font-family: monospace;\n",
       "white-space: pre;\n",
       "display: block;\n",
       "}\n",
       "#unshowable {\n",
       "color: red;\n",
       "font-weight: bold;\n",
       "}\n",
       ".err-msg.in.collapse {\n",
       "padding-top: 0.7em;\n",
       "}\n",
       ".highlight-code {\n",
       "white-space: pre;\n",
       "font-family: monospace;\n",
       "}\n",
       ".suggestion-warning { \n",
       "font-weight: bold;\n",
       "color: rgb(200, 130, 0);\n",
       "}\n",
       ".suggestion-error { \n",
       "font-weight: bold;\n",
       "color: red;\n",
       "}\n",
       ".suggestion-name {\n",
       "font-weight: bold;\n",
       "}\n",
       "</style><div class=\"suggestion-name\" style=\"clear:both;\">Unused LANGUAGE pragma</div><div class=\"suggestion-row\" style=\"float: left;\"><div class=\"suggestion-warning\">Found:</div><div class=\"highlight-code\" id=\"haskell\">{-# LANGUAGE OverloadedLists, FlexibleContexts, DeriveTraversable, ParallelListComp #-}</div></div><div class=\"suggestion-row\" style=\"float: left;\"><div class=\"suggestion-warning\">Why Not:</div><div class=\"highlight-code\" id=\"haskell\">{-# LANGUAGE OverloadedLists, FlexibleContexts #-}</div></div>"
      ],
      "text/plain": [
       "Line 1: Unused LANGUAGE pragma\n",
       "Found:\n",
       "{-# LANGUAGE OverloadedLists, FlexibleContexts, DeriveTraversable, ParallelListComp #-}\n",
       "Why not:\n",
       "{-# LANGUAGE OverloadedLists, FlexibleContexts #-}"
      ]
     },
     "metadata": {},
     "output_type": "display_data"
    }
   ],
   "source": [
    "{-# LANGUAGE OverloadedLists, FlexibleContexts, DeriveTraversable, ParallelListComp #-}\n",
    "\n",
    "import Data.Semilattice.Join\n",
    "import qualified Data.Map as M\n",
    "import qualified Data.Set as S\n",
    "import qualified Data.IntSet as IS\n",
    "import Control.Monad (replicateM)"
   ]
  },
  {
   "cell_type": "markdown",
   "metadata": {},
   "source": [
    "## State space\n",
    "\n",
    "Here we just take advantage of the fact that `IntSet` has a `Join` instance; states are sets of integers."
   ]
  },
  {
   "cell_type": "code",
   "execution_count": 15,
   "metadata": {},
   "outputs": [],
   "source": [
    "type S = IS.IntSet"
   ]
  },
  {
   "cell_type": "markdown",
   "metadata": {},
   "source": [
    "Join semilattices give rise to a partial ordering, accessible via the `LessThan` wrapper."
   ]
  },
  {
   "cell_type": "code",
   "execution_count": 14,
   "metadata": {},
   "outputs": [
    {
     "data": {
      "text/plain": [
       "LT"
      ]
     },
     "metadata": {},
     "output_type": "display_data"
    }
   ],
   "source": [
    "compare (LessThan ([1] :: S)) (LessThan [1,2])"
   ]
  },
  {
   "cell_type": "markdown",
   "metadata": {},
   "source": [
    "## Syntax\n",
    "\n",
    "First we recursively define a simple propositional language `Expr`."
   ]
  },
  {
   "cell_type": "code",
   "execution_count": 5,
   "metadata": {},
   "outputs": [],
   "source": [
    "data L a = Atom a | Not (L a) | (L a) :&: (L a) | (L a) :|: (L a) deriving (Foldable, Traversable, Functor)\n",
    "\n",
    "type Expr = L Char"
   ]
  },
  {
   "cell_type": "markdown",
   "metadata": {},
   "source": [
    "In truthmaker semantics *extensions*, are functions from truth-values to sets of states. This different from the usual presentation, but note that `Bool -> a` is isomorphic to `(a,a)`."
   ]
  },
  {
   "cell_type": "code",
   "execution_count": 5,
   "metadata": {},
   "outputs": [],
   "source": [
    "type Ext = Bool -> S.Set S"
   ]
  },
  {
   "cell_type": "markdown",
   "metadata": {},
   "source": [
    "`variables` just gives back the set of variables in an expression."
   ]
  },
  {
   "cell_type": "code",
   "execution_count": 5,
   "metadata": {},
   "outputs": [],
   "source": [
    "variables :: Expr -> S.Set Char\n",
    "variables = foldr S.insert S.empty"
   ]
  },
  {
   "cell_type": "markdown",
   "metadata": {},
   "source": [
    "Assignments are functions from variables (i.e., characters) to extensions."
   ]
  },
  {
   "cell_type": "code",
   "execution_count": 16,
   "metadata": {},
   "outputs": [],
   "source": [
    "type Assignment = Char -> Ext"
   ]
  },
  {
   "cell_type": "markdown",
   "metadata": {},
   "source": [
    "Some test data:"
   ]
  },
  {
   "cell_type": "code",
   "execution_count": 5,
   "metadata": {},
   "outputs": [
    {
     "data": {
      "text/plain": [
       "fromList \"ab\""
      ]
     },
     "metadata": {},
     "output_type": "display_data"
    }
   ],
   "source": [
    "test1 = Atom 'a' :&: Atom 'b'\n",
    "\n",
    "variables test1"
   ]
  },
  {
   "cell_type": "markdown",
   "metadata": {},
   "source": [
    "## Semantics\n",
    "\n",
    "The basic evaluation algorithm for Fine's sentential truthmaker semantics."
   ]
  },
  {
   "cell_type": "code",
   "execution_count": 22,
   "metadata": {},
   "outputs": [],
   "source": [
    "eval :: Assignment -> Expr -> Bool -> S.Set S\n",
    "eval g (Atom a) = g a\n",
    "eval g (Not expr) = eval g expr . not\n",
    "eval g (lconj :&: rconj) = \\t ->\n",
    "        if t\n",
    "            then\n",
    "                    let verifiers = (\\conj -> S.toList $ eval g conj t)\n",
    "                    in S.fromList [s \\/ s' | s <- verifiers lconj, s' <- verifiers rconj]\n",
    "            else eval g lconj t `S.union` eval g rconj t\n",
    "eval g (ldisj :|: rdisj) = \\t ->\n",
    "        if t\n",
    "            then eval g ldisj t `S.union` eval g rdisj t\n",
    "            else \n",
    "                let falsifiers = (\\disj -> S.toList $ eval g disj t)\n",
    "                in S.fromList [s \\/ s' | s <- falsifiers ldisj, s' <- falsifiers rdisj]"
   ]
  },
  {
   "cell_type": "code",
   "execution_count": 23,
   "metadata": {},
   "outputs": [
    {
     "data": {
      "text/plain": [
       "fromList [fromList [1,5],fromList [1,7],fromList [3,5],fromList [3,7]]"
      ]
     },
     "metadata": {},
     "output_type": "display_data"
    },
    {
     "data": {
      "text/plain": [
       "fromList [fromList [2],fromList [4],fromList [6],fromList [8]]"
      ]
     },
     "metadata": {},
     "output_type": "display_data"
    }
   ],
   "source": [
    "testg :: Assignment\n",
    "testg 'a' True = [[1],[3]]\n",
    "testg 'a' False = [[2],[4]]\n",
    "testg 'b' True = [[5],[7]]\n",
    "testg 'b' False = [[6],[8]]\n",
    "\n",
    "eval testg test1 True\n",
    "eval testg test1 False"
   ]
  },
  {
   "cell_type": "code",
   "execution_count": null,
   "metadata": {},
   "outputs": [],
   "source": []
  }
 ],
 "metadata": {
  "kernelspec": {
   "display_name": "Haskell - haskell",
   "language": "haskell",
   "name": "ihaskell_haskell"
  },
  "language_info": {
   "codemirror_mode": "Haskell",
   "file_extension": ".hs",
   "mimetype": "text/x-haskell",
   "name": "haskell",
   "pygments_lexer": "Haskell",
   "version": "8.8.3"
  }
 },
 "nbformat": 4,
 "nbformat_minor": 4
}
