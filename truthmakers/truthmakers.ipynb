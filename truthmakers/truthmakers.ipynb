{
 "cells": [
  {
   "cell_type": "markdown",
   "metadata": {},
   "source": [
    "# Bledin's compositional truthmaker semantics\n",
    "\n",
    "## Fineian truthmaker semantics"
   ]
  },
  {
   "cell_type": "code",
   "execution_count": 1,
   "metadata": {},
   "outputs": [
    {
     "data": {
      "text/plain": [
       "LT"
      ]
     },
     "metadata": {},
     "output_type": "display_data"
    }
   ],
   "source": [
    "{-# LANGUAGE OverloadedLists, FlexibleContexts, DeriveTraversable, ParallelListComp #-}\n",
    "\n",
    "import Data.Semilattice.Join\n",
    "import qualified Data.Map as M\n",
    "import qualified Data.Set as S\n",
    "import qualified Data.IntSet as IS\n",
    "import Control.Monad (replicateM)\n",
    "\n",
    "type S = IS.IntSet\n",
    "\n",
    "compare (LessThan ([1] :: S)) (LessThan [1,2])"
   ]
  },
  {
   "cell_type": "markdown",
   "metadata": {},
   "source": [
    "## Syntax"
   ]
  },
  {
   "cell_type": "code",
   "execution_count": 2,
   "metadata": {},
   "outputs": [
    {
     "data": {
      "text/plain": [
       "fromList \"ab\""
      ]
     },
     "metadata": {},
     "output_type": "display_data"
    }
   ],
   "source": [
    "data L a = Atom a | Not (L a) | (L a) :&: (L a) | (L a) :|: (L a) deriving (Foldable, Traversable, Functor)\n",
    "\n",
    "type Expr = L Char\n",
    "\n",
    "type Ext = Bool -> S.Set S\n",
    "\n",
    "variables :: Expr -> S.Set Char\n",
    "variables = foldr S.insert S.empty\n",
    "\n",
    "-- Note that (Bool -> a) is isomorphic to (a,a)\n",
    "type Assignment = Char -> Bool -> S.Set S\n",
    "\n",
    "test1 = Atom 'a' :&: Atom 'b'\n",
    "\n",
    "variables test1"
   ]
  },
  {
   "cell_type": "markdown",
   "metadata": {},
   "source": [
    "## Semantics\n",
    "\n",
    "The basic evaluation algorithm for Fine's sentential truthmaker semantics."
   ]
  },
  {
   "cell_type": "code",
   "execution_count": 28,
   "metadata": {},
   "outputs": [
    {
     "data": {
      "text/html": [
       "<style>/* Styles used for the Hoogle display in the pager */\n",
       ".hoogle-doc {\n",
       "display: block;\n",
       "padding-bottom: 1.3em;\n",
       "padding-left: 0.4em;\n",
       "}\n",
       ".hoogle-code {\n",
       "display: block;\n",
       "font-family: monospace;\n",
       "white-space: pre;\n",
       "}\n",
       ".hoogle-text {\n",
       "display: block;\n",
       "}\n",
       ".hoogle-name {\n",
       "color: green;\n",
       "font-weight: bold;\n",
       "}\n",
       ".hoogle-head {\n",
       "font-weight: bold;\n",
       "}\n",
       ".hoogle-sub {\n",
       "display: block;\n",
       "margin-left: 0.4em;\n",
       "}\n",
       ".hoogle-package {\n",
       "font-weight: bold;\n",
       "font-style: italic;\n",
       "}\n",
       ".hoogle-module {\n",
       "font-weight: bold;\n",
       "}\n",
       ".hoogle-class {\n",
       "font-weight: bold;\n",
       "}\n",
       ".get-type {\n",
       "color: green;\n",
       "font-weight: bold;\n",
       "font-family: monospace;\n",
       "display: block;\n",
       "white-space: pre-wrap;\n",
       "}\n",
       ".show-type {\n",
       "color: green;\n",
       "font-weight: bold;\n",
       "font-family: monospace;\n",
       "margin-left: 1em;\n",
       "}\n",
       ".mono {\n",
       "font-family: monospace;\n",
       "display: block;\n",
       "}\n",
       ".err-msg {\n",
       "color: red;\n",
       "font-style: italic;\n",
       "font-family: monospace;\n",
       "white-space: pre;\n",
       "display: block;\n",
       "}\n",
       "#unshowable {\n",
       "color: red;\n",
       "font-weight: bold;\n",
       "}\n",
       ".err-msg.in.collapse {\n",
       "padding-top: 0.7em;\n",
       "}\n",
       ".highlight-code {\n",
       "white-space: pre;\n",
       "font-family: monospace;\n",
       "}\n",
       ".suggestion-warning { \n",
       "font-weight: bold;\n",
       "color: rgb(200, 130, 0);\n",
       "}\n",
       ".suggestion-error { \n",
       "font-weight: bold;\n",
       "color: red;\n",
       "}\n",
       ".suggestion-name {\n",
       "font-weight: bold;\n",
       "}\n",
       "</style><div class=\"suggestion-name\" style=\"clear:both;\">Reduce duplication</div><div class=\"suggestion-row\" style=\"float: left;\"><div class=\"suggestion-warning\">Found:</div><div class=\"highlight-code\" id=\"haskell\">s <- S.toList \\$ eval g lconj t\n",
       "s' <- S.toList \\$ eval g rconj t\n",
       "s \\/ s'\n",
       "</div></div><div class=\"suggestion-row\" style=\"float: left;\"><div class=\"suggestion-warning\">Why Not:</div><div class=\"highlight-code\" id=\"haskell\">Combine with -:11:40-69</div></div>"
      ],
      "text/plain": [
       "Line 6: Reduce duplication\n",
       "Found:\n",
       "s <- S.toList $ eval g lconj t\n",
       "s' <- S.toList $ eval g rconj t\n",
       "s \\/ s'\n",
       "\n",
       "Why not:\n",
       "Combine with -:11:40-69"
      ]
     },
     "metadata": {},
     "output_type": "display_data"
    }
   ],
   "source": [
    "eval :: Assignment -> Expr -> Bool -> S.Set S\n",
    "eval g (Atom a) = g a\n",
    "eval g (Not expr) = eval g expr . not -- this flips the positive to the negative extension\n",
    "eval g (lconj :&: rconj) = \\t ->\n",
    "        if t\n",
    "            then S.fromList [s \\/ s' | s <- S.toList $ eval g lconj t, s' <- S.toList $ eval g rconj t]\n",
    "            else eval g lconj t `S.union` eval g rconj t\n",
    "eval g (lconj :|: rconj) = \\t ->\n",
    "        if t\n",
    "            then eval g lconj t `S.union` eval g rconj t\n",
    "            else S.fromList [s \\/ s' | s <- S.toList $ eval g lconj t, s' <- S.toList $ eval g rconj t]\n"
   ]
  },
  {
   "cell_type": "code",
   "execution_count": null,
   "metadata": {},
   "outputs": [],
   "source": []
  }
 ],
 "metadata": {
  "kernelspec": {
   "display_name": "Haskell - haskell",
   "language": "haskell",
   "name": "ihaskell_haskell"
  },
  "language_info": {
   "codemirror_mode": "Haskell",
   "file_extension": ".hs",
   "mimetype": "text/x-haskell",
   "name": "haskell",
   "pygments_lexer": "Haskell",
   "version": "8.8.3"
  }
 },
 "nbformat": 4,
 "nbformat_minor": 4
}
