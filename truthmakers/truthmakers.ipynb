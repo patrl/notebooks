{
 "cells": [
  {
   "cell_type": "markdown",
   "metadata": {},
   "source": [
    "# Fineian truthmaker semantics"
   ]
  },
  {
   "cell_type": "code",
   "execution_count": 72,
   "metadata": {},
   "outputs": [
    {
     "data": {
      "text/html": [
       "<style>/* Styles used for the Hoogle display in the pager */\n",
       ".hoogle-doc {\n",
       "display: block;\n",
       "padding-bottom: 1.3em;\n",
       "padding-left: 0.4em;\n",
       "}\n",
       ".hoogle-code {\n",
       "display: block;\n",
       "font-family: monospace;\n",
       "white-space: pre;\n",
       "}\n",
       ".hoogle-text {\n",
       "display: block;\n",
       "}\n",
       ".hoogle-name {\n",
       "color: green;\n",
       "font-weight: bold;\n",
       "}\n",
       ".hoogle-head {\n",
       "font-weight: bold;\n",
       "}\n",
       ".hoogle-sub {\n",
       "display: block;\n",
       "margin-left: 0.4em;\n",
       "}\n",
       ".hoogle-package {\n",
       "font-weight: bold;\n",
       "font-style: italic;\n",
       "}\n",
       ".hoogle-module {\n",
       "font-weight: bold;\n",
       "}\n",
       ".hoogle-class {\n",
       "font-weight: bold;\n",
       "}\n",
       ".get-type {\n",
       "color: green;\n",
       "font-weight: bold;\n",
       "font-family: monospace;\n",
       "display: block;\n",
       "white-space: pre-wrap;\n",
       "}\n",
       ".show-type {\n",
       "color: green;\n",
       "font-weight: bold;\n",
       "font-family: monospace;\n",
       "margin-left: 1em;\n",
       "}\n",
       ".mono {\n",
       "font-family: monospace;\n",
       "display: block;\n",
       "}\n",
       ".err-msg {\n",
       "color: red;\n",
       "font-style: italic;\n",
       "font-family: monospace;\n",
       "white-space: pre;\n",
       "display: block;\n",
       "}\n",
       "#unshowable {\n",
       "color: red;\n",
       "font-weight: bold;\n",
       "}\n",
       ".err-msg.in.collapse {\n",
       "padding-top: 0.7em;\n",
       "}\n",
       ".highlight-code {\n",
       "white-space: pre;\n",
       "font-family: monospace;\n",
       "}\n",
       ".suggestion-warning { \n",
       "font-weight: bold;\n",
       "color: rgb(200, 130, 0);\n",
       "}\n",
       ".suggestion-error { \n",
       "font-weight: bold;\n",
       "color: red;\n",
       "}\n",
       ".suggestion-name {\n",
       "font-weight: bold;\n",
       "}\n",
       "</style><div class=\"suggestion-name\" style=\"clear:both;\">Unused LANGUAGE pragma</div><div class=\"suggestion-row\" style=\"float: left;\"><div class=\"suggestion-warning\">Found:</div><div class=\"highlight-code\" id=\"haskell\">{-# LANGUAGE OverloadedLists, FlexibleContexts, DeriveTraversable, ParallelListComp, LambdaCase, GADTs, KindSignatures, StandaloneDeriving #-}</div></div><div class=\"suggestion-row\" style=\"float: left;\"><div class=\"suggestion-warning\">Why Not:</div><div class=\"highlight-code\" id=\"haskell\">{-# LANGUAGE OverloadedLists, FlexibleContexts, GADTs #-}</div></div>"
      ],
      "text/plain": [
       "Line 1: Unused LANGUAGE pragma\n",
       "Found:\n",
       "{-# LANGUAGE OverloadedLists, FlexibleContexts, DeriveTraversable, ParallelListComp, LambdaCase, GADTs, KindSignatures, StandaloneDeriving #-}\n",
       "Why not:\n",
       "{-# LANGUAGE OverloadedLists, FlexibleContexts, GADTs #-}"
      ]
     },
     "metadata": {},
     "output_type": "display_data"
    },
    {
     "ename": "",
     "evalue": "",
     "header": "MessageHeader {mhIdentifiers = [\"db881f5a-920d-48f4-af9d-0ca1488c5457\"], mhParentHeader = Just (MessageHeader {mhIdentifiers = [\"db881f5a-920d-48f4-af9d-0ca1488c5457\"], mhParentHeader = Nothing, mhMetadata = Metadata (fromList [(\"recordTiming\",Bool False),(\"deletedCells\",Array []),(\"cellId\",String \"059b26a3-a413-4d7d-bd9f-57d722f4cb68\")]), mhMessageId = UUID {uuidToString = \"e6847ed2-7b6e-43d6-bbdd-60162dc5fd8f\"}, mhSessionId = UUID {uuidToString = \"db881f5a-920d-48f4-af9d-0ca1488c5457\"}, mhUsername = \"\", mhMsgType = ExecuteRequestMessage, mhBuffers = []}), mhMetadata = Metadata (fromList []), mhMessageId = UUID {uuidToString = \"9c146fe4-e842-4fed-ac16-5c96fa5b41a9\"}, mhSessionId = UUID {uuidToString = \"db881f5a-920d-48f4-af9d-0ca1488c5457\"}, mhUsername = \"\", mhMsgType = ExecuteErrorMessage, mhBuffers = []}",
     "output_type": "error",
     "traceback": [
      "<interactive>:1:1: error:\n    Could not find module ‘Data.Biapplicative’\n    Use -v (or `:set -v` in ghci) to see a list of the files searched for."
     ]
    }
   ],
   "source": [
    "{-# LANGUAGE OverloadedLists, FlexibleContexts, DeriveTraversable, ParallelListComp, LambdaCase, GADTs, KindSignatures, StandaloneDeriving #-}\n",
    "\n",
    "import Data.Bifunctor\n",
    "import Data.Semilattice.Join\n",
    "import Data.Semilattice.Lower\n",
    "import qualified Data.Map as M\n",
    "import qualified Data.Set.Monad as S\n",
    "import qualified Data.IntSet as IS\n",
    "import Control.Monad (replicateM)\n",
    "import Control.Applicative (liftA2)"
   ]
  },
  {
   "cell_type": "markdown",
   "metadata": {},
   "source": [
    "## State space\n",
    "\n",
    "Here we just take advantage of the fact that `IntSet` has a `Join` instance; states are sets of integers."
   ]
  },
  {
   "cell_type": "code",
   "execution_count": 2,
   "metadata": {},
   "outputs": [],
   "source": [
    "type S = IS.IntSet"
   ]
  },
  {
   "cell_type": "markdown",
   "metadata": {},
   "source": [
    "Join semilattices give rise to a partial ordering, accessible via the `LessThan` wrapper."
   ]
  },
  {
   "cell_type": "code",
   "execution_count": 3,
   "metadata": {},
   "outputs": [
    {
     "data": {
      "text/plain": [
       "LT"
      ]
     },
     "metadata": {},
     "output_type": "display_data"
    }
   ],
   "source": [
    "compare (LessThan ([1] :: S)) (LessThan [1,2])"
   ]
  },
  {
   "cell_type": "markdown",
   "metadata": {},
   "source": [
    "## Syntax\n",
    "\n",
    "First we recursively define a simple propositional language `Expr`."
   ]
  },
  {
   "cell_type": "code",
   "execution_count": 4,
   "metadata": {},
   "outputs": [],
   "source": [
    "data L a = Atom a | Not (L a) | (L a) :&: (L a) | (L a) :|: (L a) deriving (Foldable, Traversable, Functor)\n",
    "\n",
    "type Expr = L Char"
   ]
  },
  {
   "cell_type": "markdown",
   "metadata": {},
   "source": [
    "In truthmaker semantics *extensions*, are functions from truth-values to sets of states. This different from the usual presentation, but note that `Bool -> a` is isomorphic to `(a,a)`."
   ]
  },
  {
   "cell_type": "code",
   "execution_count": 5,
   "metadata": {},
   "outputs": [],
   "source": [
    "type Ext = Bool -> S.Set S"
   ]
  },
  {
   "cell_type": "markdown",
   "metadata": {},
   "source": [
    "`variables` just gives back the set of variables in an expression."
   ]
  },
  {
   "cell_type": "code",
   "execution_count": 6,
   "metadata": {},
   "outputs": [],
   "source": [
    "variables :: Expr -> S.Set Char\n",
    "variables = foldr S.insert S.empty"
   ]
  },
  {
   "cell_type": "markdown",
   "metadata": {},
   "source": [
    "Assignments are functions from variables (i.e., characters) to extensions."
   ]
  },
  {
   "cell_type": "code",
   "execution_count": 7,
   "metadata": {},
   "outputs": [],
   "source": [
    "type Assignment = Char -> Ext"
   ]
  },
  {
   "cell_type": "markdown",
   "metadata": {},
   "source": [
    "Some test data:"
   ]
  },
  {
   "cell_type": "code",
   "execution_count": 8,
   "metadata": {},
   "outputs": [
    {
     "data": {
      "text/plain": [
       "fromList \"ab\""
      ]
     },
     "metadata": {},
     "output_type": "display_data"
    }
   ],
   "source": [
    "test1 = Atom 'a' :&: Atom 'b'\n",
    "\n",
    "variables test1"
   ]
  },
  {
   "cell_type": "markdown",
   "metadata": {},
   "source": [
    "## Semantics\n",
    "\n",
    "The basic evaluation algorithm for Fine's sentential truthmaker semantics. N.b., \n",
    "- We use the `Semigroup` instance for `Set` for set union (i.e., `<>`).\n",
    "- *Pointwise fusion is accomplished by lifting join (`\\/`) into the `Set` applicative."
   ]
  },
  {
   "cell_type": "code",
   "execution_count": 9,
   "metadata": {},
   "outputs": [],
   "source": [
    "eval :: Assignment -> Expr -> Bool -> S.Set S\n",
    "eval g (Atom a) = g a\n",
    "eval g (Not expr) = eval g expr . not\n",
    "eval g (lconj :&: rconj) = \\t ->\n",
    "        if t\n",
    "            then\n",
    "                let verifiers = (\\conj -> eval g conj t)\n",
    "                in liftA2 (\\/) (verifiers lconj) (verifiers rconj)\n",
    "            else\n",
    "                let falsifiers = (\\conj -> eval g conj t)\n",
    "                in falsifiers lconj <> falsifiers rconj\n",
    "eval g (ldisj :|: rdisj) = \\t ->\n",
    "        if t\n",
    "            then\n",
    "                let verifiers = (\\disj -> eval g disj t)\n",
    "                in verifiers ldisj <> verifiers rdisj\n",
    "            else \n",
    "                let falsifiers = (\\disj -> eval g disj t)\n",
    "                in liftA2 (\\/) (falsifiers ldisj) (falsifiers rdisj)"
   ]
  },
  {
   "cell_type": "code",
   "execution_count": 10,
   "metadata": {},
   "outputs": [
    {
     "data": {
      "text/plain": [
       "fromList [fromList [1,5],fromList [1,7],fromList [3,5],fromList [3,7]]"
      ]
     },
     "metadata": {},
     "output_type": "display_data"
    },
    {
     "data": {
      "text/plain": [
       "fromList [fromList [2],fromList [4],fromList [6],fromList [8]]"
      ]
     },
     "metadata": {},
     "output_type": "display_data"
    }
   ],
   "source": [
    "testg :: Assignment\n",
    "testg 'a' True = S.fromList [[1],[3]]\n",
    "testg 'a' False = S.fromList [[2],[4]]\n",
    "testg 'b' True = S.fromList [[5],[7]]\n",
    "testg 'b' False = S.fromList [[6],[8]]\n",
    "\n",
    "eval testg test1 True\n",
    "eval testg test1 False"
   ]
  },
  {
   "cell_type": "markdown",
   "metadata": {},
   "source": [
    "# Desentential truthmaker semantics (riffing off Bledin)\n",
    "\n",
    "N.b. that `(a,a)` is isomorphic to `Bool -> a`, and the latter representation gives rise to simpler computations, but using `(a,a)` allows us to avoid writing a bunch of show instances by hand."
   ]
  },
  {
   "cell_type": "code",
   "execution_count": 119,
   "metadata": {},
   "outputs": [],
   "source": [
    "instance (Join a, Join b) => Join (a,b) where\n",
    "    (a,c) \\/ (b,d) = (a \\/ b, c \\/ d)\n",
    "\n",
    "type E = IS.IntSet\n",
    "\n",
    "type Pol a = (a,a)\n",
    "\n",
    "type EPol = Pol E\n",
    "\n",
    "onePos :: Pol E\n",
    "onePos = ([1],mempty)\n",
    "\n",
    "oneNeg :: Pol E\n",
    "oneNeg =  (mempty,[1])\n",
    "\n",
    "twoPos :: Pol E\n",
    "twoPos = ([2],mempty)\n",
    "    \n",
    "twoNeg :: Pol E\n",
    "twoNeg = (mempty,[2])\n",
    "\n",
    "type M a = (S.Set a, S.Set a)\n",
    "\n",
    "vers :: M a -> S.Set a\n",
    "vers = fst\n",
    "\n",
    "fals :: M a -> S.Set a\n",
    "fals = snd\n",
    "\n",
    "_not :: M a -> M a\n",
    "_not (x,y) = (y,x) -- flippity\n",
    "\n",
    "_and :: Join a => M a -> M a -> M a\n",
    "p `_and` q = (liftA2 (\\/) (vers p) (vers q), fals p <> fals q)\n",
    "    \n",
    "_or :: Join a => M a -> M a -> M a\n",
    "p `_or` q = (vers p <> vers q, liftA2 (\\/) (fals p) (fals q))"
   ]
  },
  {
   "cell_type": "code",
   "execution_count": 96,
   "metadata": {},
   "outputs": [],
   "source": [
    "_one :: M (Pol E)\n",
    "_one = bimap pure pure (onePos,oneNeg)\n",
    "    \n",
    "_two :: M (Pol E)\n",
    "_two = bimap pure pure (twoPos,twoNeg)"
   ]
  },
  {
   "cell_type": "code",
   "execution_count": 97,
   "metadata": {},
   "outputs": [
    {
     "data": {
      "text/plain": [
       "(fromList [(fromList [1,2],fromList [])],fromList [(fromList [],fromList [1]),(fromList [],fromList [2])])"
      ]
     },
     "metadata": {},
     "output_type": "display_data"
    }
   ],
   "source": [
    "_one `_and` _two"
   ]
  },
  {
   "cell_type": "code",
   "execution_count": 98,
   "metadata": {},
   "outputs": [
    {
     "data": {
      "text/plain": [
       "(fromList [(fromList [1],fromList []),(fromList [2],fromList [])],fromList [(fromList [],fromList [1,2])])"
      ]
     },
     "metadata": {},
     "output_type": "display_data"
    }
   ],
   "source": [
    "_one `_or` _two"
   ]
  },
  {
   "cell_type": "code",
   "execution_count": 103,
   "metadata": {},
   "outputs": [
    {
     "data": {
      "text/html": [
       "<style>/* Styles used for the Hoogle display in the pager */\n",
       ".hoogle-doc {\n",
       "display: block;\n",
       "padding-bottom: 1.3em;\n",
       "padding-left: 0.4em;\n",
       "}\n",
       ".hoogle-code {\n",
       "display: block;\n",
       "font-family: monospace;\n",
       "white-space: pre;\n",
       "}\n",
       ".hoogle-text {\n",
       "display: block;\n",
       "}\n",
       ".hoogle-name {\n",
       "color: green;\n",
       "font-weight: bold;\n",
       "}\n",
       ".hoogle-head {\n",
       "font-weight: bold;\n",
       "}\n",
       ".hoogle-sub {\n",
       "display: block;\n",
       "margin-left: 0.4em;\n",
       "}\n",
       ".hoogle-package {\n",
       "font-weight: bold;\n",
       "font-style: italic;\n",
       "}\n",
       ".hoogle-module {\n",
       "font-weight: bold;\n",
       "}\n",
       ".hoogle-class {\n",
       "font-weight: bold;\n",
       "}\n",
       ".get-type {\n",
       "color: green;\n",
       "font-weight: bold;\n",
       "font-family: monospace;\n",
       "display: block;\n",
       "white-space: pre-wrap;\n",
       "}\n",
       ".show-type {\n",
       "color: green;\n",
       "font-weight: bold;\n",
       "font-family: monospace;\n",
       "margin-left: 1em;\n",
       "}\n",
       ".mono {\n",
       "font-family: monospace;\n",
       "display: block;\n",
       "}\n",
       ".err-msg {\n",
       "color: red;\n",
       "font-style: italic;\n",
       "font-family: monospace;\n",
       "white-space: pre;\n",
       "display: block;\n",
       "}\n",
       "#unshowable {\n",
       "color: red;\n",
       "font-weight: bold;\n",
       "}\n",
       ".err-msg.in.collapse {\n",
       "padding-top: 0.7em;\n",
       "}\n",
       ".highlight-code {\n",
       "white-space: pre;\n",
       "font-family: monospace;\n",
       "}\n",
       ".suggestion-warning { \n",
       "font-weight: bold;\n",
       "color: rgb(200, 130, 0);\n",
       "}\n",
       ".suggestion-error { \n",
       "font-weight: bold;\n",
       "color: red;\n",
       "}\n",
       ".suggestion-name {\n",
       "font-weight: bold;\n",
       "}\n",
       "</style><div class=\"suggestion-name\" style=\"clear:both;\">Redundant bracket</div><div class=\"suggestion-row\" style=\"float: left;\"><div class=\"suggestion-warning\">Found:</div><div class=\"highlight-code\" id=\"haskell\">_one `_and` (_not _two)</div></div><div class=\"suggestion-row\" style=\"float: left;\"><div class=\"suggestion-warning\">Why Not:</div><div class=\"highlight-code\" id=\"haskell\">_one `_and` _not _two</div></div>"
      ],
      "text/plain": [
       "Line 3: Redundant bracket\n",
       "Found:\n",
       "_one `_and` (_not _two)\n",
       "Why not:\n",
       "_one `_and` _not _two"
      ]
     },
     "metadata": {},
     "output_type": "display_data"
    },
    {
     "data": {
      "text/plain": [
       "(fromList [(fromList [1],fromList [2])],fromList [(fromList [],fromList [1]),(fromList [2],fromList [])])"
      ]
     },
     "metadata": {},
     "output_type": "display_data"
    }
   ],
   "source": [
    "-- this doesn't seem to be giving the right results\n",
    "\n",
    "_one `_and` (_not _two)"
   ]
  },
  {
   "cell_type": "code",
   "execution_count": 106,
   "metadata": {},
   "outputs": [
    {
     "data": {
      "text/html": [
       "<style>/* Styles used for the Hoogle display in the pager */\n",
       ".hoogle-doc {\n",
       "display: block;\n",
       "padding-bottom: 1.3em;\n",
       "padding-left: 0.4em;\n",
       "}\n",
       ".hoogle-code {\n",
       "display: block;\n",
       "font-family: monospace;\n",
       "white-space: pre;\n",
       "}\n",
       ".hoogle-text {\n",
       "display: block;\n",
       "}\n",
       ".hoogle-name {\n",
       "color: green;\n",
       "font-weight: bold;\n",
       "}\n",
       ".hoogle-head {\n",
       "font-weight: bold;\n",
       "}\n",
       ".hoogle-sub {\n",
       "display: block;\n",
       "margin-left: 0.4em;\n",
       "}\n",
       ".hoogle-package {\n",
       "font-weight: bold;\n",
       "font-style: italic;\n",
       "}\n",
       ".hoogle-module {\n",
       "font-weight: bold;\n",
       "}\n",
       ".hoogle-class {\n",
       "font-weight: bold;\n",
       "}\n",
       ".get-type {\n",
       "color: green;\n",
       "font-weight: bold;\n",
       "font-family: monospace;\n",
       "display: block;\n",
       "white-space: pre-wrap;\n",
       "}\n",
       ".show-type {\n",
       "color: green;\n",
       "font-weight: bold;\n",
       "font-family: monospace;\n",
       "margin-left: 1em;\n",
       "}\n",
       ".mono {\n",
       "font-family: monospace;\n",
       "display: block;\n",
       "}\n",
       ".err-msg {\n",
       "color: red;\n",
       "font-style: italic;\n",
       "font-family: monospace;\n",
       "white-space: pre;\n",
       "display: block;\n",
       "}\n",
       "#unshowable {\n",
       "color: red;\n",
       "font-weight: bold;\n",
       "}\n",
       ".err-msg.in.collapse {\n",
       "padding-top: 0.7em;\n",
       "}\n",
       ".highlight-code {\n",
       "white-space: pre;\n",
       "font-family: monospace;\n",
       "}\n",
       ".suggestion-warning { \n",
       "font-weight: bold;\n",
       "color: rgb(200, 130, 0);\n",
       "}\n",
       ".suggestion-error { \n",
       "font-weight: bold;\n",
       "color: red;\n",
       "}\n",
       ".suggestion-name {\n",
       "font-weight: bold;\n",
       "}\n",
       "</style><div class=\"suggestion-name\" style=\"clear:both;\">Redundant bracket</div><div class=\"suggestion-row\" style=\"float: left;\"><div class=\"suggestion-warning\">Found:</div><div class=\"highlight-code\" id=\"haskell\">(_one)</div></div><div class=\"suggestion-row\" style=\"float: left;\"><div class=\"suggestion-warning\">Why Not:</div><div class=\"highlight-code\" id=\"haskell\">_one</div></div>"
      ],
      "text/plain": [
       "Line 3: Redundant bracket\n",
       "Found:\n",
       "(_one)\n",
       "Why not:\n",
       "_one"
      ]
     },
     "metadata": {},
     "output_type": "display_data"
    },
    {
     "data": {
      "text/plain": [
       "fromList [(fromList [],fromList [2])]"
      ]
     },
     "metadata": {},
     "output_type": "display_data"
    },
    {
     "data": {
      "text/plain": [
       "fromList [(fromList [1],fromList [])]"
      ]
     },
     "metadata": {},
     "output_type": "display_data"
    }
   ],
   "source": [
    "vers (_not _two)\n",
    "\n",
    "vers (_one)"
   ]
  },
  {
   "cell_type": "markdown",
   "metadata": {},
   "source": [
    "## Predicates"
   ]
  },
  {
   "cell_type": "markdown",
   "metadata": {},
   "source": [
    "_isHere :: M (Pol E -> Pol S)\n",
    "_isHere = bimap pure pure (id,id)\n",
    "\n",
    "biApp :: M a -> M (a -> b) -> M b\n",
    "biApp (xs,ys) (fs,gs) = (fs <*> xs,gs <*> ys)\n",
    "\n",
    "_one `biApp` _isHere\n",
    "\n",
    "(_not _one) `biApp` _isHere"
   ]
  },
  {
   "cell_type": "markdown",
   "metadata": {},
   "source": [
    "## Quantifiers\n",
    "\n",
    "Let's start with a fixed domain."
   ]
  },
  {
   "cell_type": "code",
   "execution_count": 164,
   "metadata": {},
   "outputs": [],
   "source": [
    "dom :: [Int]\n",
    "dom = [1..10]"
   ]
  },
  {
   "cell_type": "markdown",
   "metadata": {},
   "source": [
    "Existential quantifiers via generalized disjunction:"
   ]
  },
  {
   "cell_type": "code",
   "execution_count": 168,
   "metadata": {},
   "outputs": [
    {
     "data": {
      "text/html": [
       "<style>/* Styles used for the Hoogle display in the pager */\n",
       ".hoogle-doc {\n",
       "display: block;\n",
       "padding-bottom: 1.3em;\n",
       "padding-left: 0.4em;\n",
       "}\n",
       ".hoogle-code {\n",
       "display: block;\n",
       "font-family: monospace;\n",
       "white-space: pre;\n",
       "}\n",
       ".hoogle-text {\n",
       "display: block;\n",
       "}\n",
       ".hoogle-name {\n",
       "color: green;\n",
       "font-weight: bold;\n",
       "}\n",
       ".hoogle-head {\n",
       "font-weight: bold;\n",
       "}\n",
       ".hoogle-sub {\n",
       "display: block;\n",
       "margin-left: 0.4em;\n",
       "}\n",
       ".hoogle-package {\n",
       "font-weight: bold;\n",
       "font-style: italic;\n",
       "}\n",
       ".hoogle-module {\n",
       "font-weight: bold;\n",
       "}\n",
       ".hoogle-class {\n",
       "font-weight: bold;\n",
       "}\n",
       ".get-type {\n",
       "color: green;\n",
       "font-weight: bold;\n",
       "font-family: monospace;\n",
       "display: block;\n",
       "white-space: pre-wrap;\n",
       "}\n",
       ".show-type {\n",
       "color: green;\n",
       "font-weight: bold;\n",
       "font-family: monospace;\n",
       "margin-left: 1em;\n",
       "}\n",
       ".mono {\n",
       "font-family: monospace;\n",
       "display: block;\n",
       "}\n",
       ".err-msg {\n",
       "color: red;\n",
       "font-style: italic;\n",
       "font-family: monospace;\n",
       "white-space: pre;\n",
       "display: block;\n",
       "}\n",
       "#unshowable {\n",
       "color: red;\n",
       "font-weight: bold;\n",
       "}\n",
       ".err-msg.in.collapse {\n",
       "padding-top: 0.7em;\n",
       "}\n",
       ".highlight-code {\n",
       "white-space: pre;\n",
       "font-family: monospace;\n",
       "}\n",
       ".suggestion-warning { \n",
       "font-weight: bold;\n",
       "color: rgb(200, 130, 0);\n",
       "}\n",
       ".suggestion-error { \n",
       "font-weight: bold;\n",
       "color: red;\n",
       "}\n",
       ".suggestion-name {\n",
       "font-weight: bold;\n",
       "}\n",
       "</style><div class=\"suggestion-name\" style=\"clear:both;\">Redundant bracket</div><div class=\"suggestion-row\" style=\"float: left;\"><div class=\"suggestion-warning\">Found:</div><div class=\"highlight-code\" id=\"haskell\">foldr (\\/) mempty \\$ (S.fromList [(mempty, [n]) | n <- dom])</div></div><div class=\"suggestion-row\" style=\"float: left;\"><div class=\"suggestion-warning\">Why Not:</div><div class=\"highlight-code\" id=\"haskell\">foldr (\\/) mempty \\$ S.fromList [(mempty, [n]) | n <- dom]</div></div><div class=\"suggestion-name\" style=\"clear:both;\">Redundant $</div><div class=\"suggestion-row\" style=\"float: left;\"><div class=\"suggestion-warning\">Found:</div><div class=\"highlight-code\" id=\"haskell\">\\$</div></div><div class=\"suggestion-row\" style=\"float: left;\"><div class=\"suggestion-warning\">Why Not:</div><div class=\"highlight-code\" id=\"haskell\"></div></div>"
      ],
      "text/plain": [
       "Line 3: Redundant bracket\n",
       "Found:\n",
       "foldr (\\/) mempty $ (S.fromList [(mempty, [n]) | n <- dom])\n",
       "Why not:\n",
       "foldr (\\/) mempty $ S.fromList [(mempty, [n]) | n <- dom]Line 3: Redundant $\n",
       "Found:\n",
       "$\n",
       "Why not:"
      ]
     },
     "metadata": {},
     "output_type": "display_data"
    },
    {
     "data": {
      "text/plain": [
       "fromList [(fromList [1],fromList []),(fromList [2],fromList []),(fromList [3],fromList []),(fromList [4],fromList []),(fromList [5],fromList []),(fromList [6],fromList []),(fromList [7],fromList []),(fromList [8],fromList []),(fromList [9],fromList []),(fromList [10],fromList [])]"
      ]
     },
     "metadata": {},
     "output_type": "display_data"
    },
    {
     "data": {
      "text/plain": [
       "fromList [(fromList [],fromList [1,2,3,4,5,6,7,8,9,10])]"
      ]
     },
     "metadata": {},
     "output_type": "display_data"
    }
   ],
   "source": [
    "_something :: M (Pol E)\n",
    "_something = (S.fromList [([n], mempty) | n <- dom]\n",
    "    , pure $ foldr (\\/) mempty $ (S.fromList [(mempty,[n]) | n <- dom]))\n",
    "\n",
    "vers _something\n",
    "fals _something"
   ]
  },
  {
   "cell_type": "markdown",
   "metadata": {},
   "source": [
    "Universal quantifiers via generalized conjunction"
   ]
  },
  {
   "cell_type": "code",
   "execution_count": 185,
   "metadata": {},
   "outputs": [],
   "source": [
    "_everything :: M (Pol E)\n",
    "_everything = (pure $ foldr (\\/) mempty (S.fromList [([n],mempty) | n <- dom])\n",
    "    , S.fromList [(mempty,[n]) | n <- dom])\n",
    "\n",
    "_theThings :: M (Pol E)\n",
    "_theThings = (pure $ foldr (\\/) mempty (S.fromList [([n],mempty) | n <- dom])\n",
    "    , pure $ foldr (\\/) mempty (S.fromList [(mempty,[n]) | n <- dom]))"
   ]
  },
  {
   "cell_type": "code",
   "execution_count": 186,
   "metadata": {},
   "outputs": [
    {
     "data": {
      "text/plain": [
       "fromList [(fromList [1,2,3,4,5,6,7,8,9,10],fromList [])]"
      ]
     },
     "metadata": {},
     "output_type": "display_data"
    },
    {
     "data": {
      "text/plain": [
       "fromList [(fromList [],fromList [1]),(fromList [],fromList [2]),(fromList [],fromList [3]),(fromList [],fromList [4]),(fromList [],fromList [5]),(fromList [],fromList [6]),(fromList [],fromList [7]),(fromList [],fromList [8]),(fromList [],fromList [9]),(fromList [],fromList [10])]"
      ]
     },
     "metadata": {},
     "output_type": "display_data"
    }
   ],
   "source": [
    "vers _everything\n",
    "fals _everything"
   ]
  },
  {
   "cell_type": "code",
   "execution_count": 187,
   "metadata": {},
   "outputs": [
    {
     "data": {
      "text/plain": [
       "fromList [(fromList [1,2,3,4,5,6,7,8,9,10],fromList [])]"
      ]
     },
     "metadata": {},
     "output_type": "display_data"
    }
   ],
   "source": [
    "vers _theThings"
   ]
  },
  {
   "cell_type": "code",
   "execution_count": 188,
   "metadata": {},
   "outputs": [
    {
     "data": {
      "text/plain": [
       "fromList [(fromList [],fromList [1,2,3,4,5,6,7,8,9,10])]"
      ]
     },
     "metadata": {},
     "output_type": "display_data"
    }
   ],
   "source": [
    "fals _theThings"
   ]
  },
  {
   "cell_type": "markdown",
   "metadata": {},
   "source": [
    "## A problem with the currrent implementation\n",
    "\n",
    "We don't currently predict homogeneity effects for conjoined NPs.\n",
    "\n",
    "- TODO theory of presupposition: either there is a falsemaker or there is a truthmaker"
   ]
  },
  {
   "cell_type": "code",
   "execution_count": null,
   "metadata": {},
   "outputs": [],
   "source": []
  }
 ],
 "metadata": {
  "kernelspec": {
   "display_name": "Haskell - haskell",
   "language": "haskell",
   "name": "ihaskell_haskell"
  },
  "language_info": {
   "codemirror_mode": "Haskell",
   "file_extension": ".hs",
   "mimetype": "text/x-haskell",
   "name": "haskell",
   "pygments_lexer": "Haskell",
   "version": "8.8.3"
  }
 },
 "nbformat": 4,
 "nbformat_minor": 4
}
